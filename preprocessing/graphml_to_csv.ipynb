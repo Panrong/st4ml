{
 "cells": [
  {
   "cell_type": "code",
   "execution_count": 2,
   "metadata": {},
   "outputs": [],
   "source": [
    "import networkx as nx"
   ]
  },
  {
   "cell_type": "code",
   "execution_count": 19,
   "metadata": {},
   "outputs": [],
   "source": [
    "# input_file = 'test.graphml'\n",
    "input_file = 'porto.graphml'\n",
    "G = nx.read_graphml(input_file)"
   ]
  },
  {
   "cell_type": "code",
   "execution_count": 20,
   "metadata": {},
   "outputs": [
    {
     "data": {
      "text/plain": [
       "10712513"
      ]
     },
     "execution_count": 20,
     "metadata": {},
     "output_type": "execute_result"
    }
   ],
   "source": [
    "content = \"\"\n",
    "for node in G.nodes(data=True):\n",
    "    node_info = f\"node,{node[1]['osmid']},{node[1]['x']},{node[1]['y']}\\n\"\n",
    "    content += node_info\n",
    "for edge in G.edges(data=True):\n",
    "    src_gps = G.nodes[edge[0]][\"x\"] + \" \" + G.nodes[edge[0]][\"y\"]\n",
    "    dst_gps = G.nodes[edge[1]][\"x\"] + \" \" + G.nodes[edge[1]][\"y\"]\n",
    "    if \"geometry\" in edge[2].keys():\n",
    "        linestring = src_gps + \"%\" + edge[2]['geometry'].replace(\"LINESTRING (\", \"\").replace(\")\", \"\").replace(\", \", \"%\") + \"%\" + dst_gps \n",
    "    else:\n",
    "        linestring = src_gps + \"%\" + dst_gps\n",
    "    edge_info = f\"edge,{edge[0]},{edge[1]},{int(edge[2]['oneway']==True)},{edge[2]['length']},{linestring}\\n\"\n",
    "    content += edge_info\n",
    "\n",
    "output_file = input_file.replace('graphml', 'csv')\n",
    "with open(output_file, 'w') as f:\n",
    "    f.write(content)"
   ]
  },
  {
   "cell_type": "code",
   "execution_count": null,
   "metadata": {},
   "outputs": [],
   "source": []
  }
 ],
 "metadata": {
  "kernelspec": {
   "display_name": "Python 3",
   "language": "python",
   "name": "python3"
  },
  "language_info": {
   "codemirror_mode": {
    "name": "ipython",
    "version": 3
   },
   "file_extension": ".py",
   "mimetype": "text/x-python",
   "name": "python",
   "nbconvert_exporter": "python",
   "pygments_lexer": "ipython3",
   "version": "3.6.1"
  }
 },
 "nbformat": 4,
 "nbformat_minor": 4
}
